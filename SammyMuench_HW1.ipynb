{
 "cells": [
  {
   "cell_type": "markdown",
   "id": "fe39c30d-9915-4d04-978e-552d1f025742",
   "metadata": {},
   "source": [
    "AST51: Homework 1\n",
    "Frederick (Sammy) Muench"
   ]
  },
  {
   "cell_type": "code",
   "execution_count": 2,
   "id": "6d2b8ba5-152a-4997-a3ea-8eb410b30cfe",
   "metadata": {},
   "outputs": [],
   "source": [
    "import numpy as np\n",
    "import math"
   ]
  },
  {
   "cell_type": "code",
   "execution_count": 5,
   "id": "d7e56a3e-1995-4c66-91d8-a065eabd3e8a",
   "metadata": {
    "tags": []
   },
   "outputs": [
    {
     "name": "stdout",
     "output_type": "stream",
     "text": [
      "[ 31  83 100]\n"
     ]
    }
   ],
   "source": [
    "# Number 1\n",
    "\n",
    "matrix = np.array([[1, 4, 2], [3, 6, 8], [5, 8, 9]]) #define 3x3 matrix as array of lists\n",
    "vector = np.array([1, 4, 7]) #define vector as single list\n",
    "\n",
    "finalVect = np.array([0, 0, 0])\n",
    "\n",
    "for i in range(0, len(matrix)):\n",
    "    finalVect[i]+=matrix[i].dot(vector) #dot each row of the matrix with the vector\n",
    "\n",
    "print(finalVect)"
   ]
  },
  {
   "cell_type": "code",
   "execution_count": 7,
   "id": "bcb8fe11-32b0-40e2-8c01-25df960f9298",
   "metadata": {},
   "outputs": [
    {
     "name": "stdout",
     "output_type": "stream",
     "text": [
      "a dot b = 8\n",
      "b dot a = 8\n",
      "a x b = [  5  -6 -27]\n",
      "b x a = [-5  6 27]\n",
      "Length of a x b = 28.106938645110393\n",
      "a dot a = 61\n",
      "|a|^2 = 61\n"
     ]
    }
   ],
   "source": [
    "#Number 2\n",
    "\n",
    "#2a\n",
    "a = np.array([6, 5, 0])\n",
    "b = np.array([3, -2, 1]) #define a and b as vectors\n",
    "\n",
    "aDotB = a.dot(b) #x will be dot product\n",
    "\n",
    "print(\"a dot b = \" + str(aDotB))\n",
    "\n",
    "bDotA = b.dot(a)\n",
    "\n",
    "print(\"b dot a = \" + str(bDotA)) # this shows that a dot b = b dot a\n",
    "\n",
    "#2b\n",
    "\n",
    "cross_prod = np.cross(a, b)      \n",
    "print(\"a x b = \" + str(cross_prod)) #find cross product of a and b\n",
    "\n",
    "cross_prod_flipped = np.cross(b, a)\n",
    "\n",
    "print(\"b x a = \" + str(cross_prod_flipped)) #a x b does not equal b cross a: a x b = - b x a\n",
    "\n",
    "#2c\n",
    "\n",
    "length_axb = 0\n",
    "for i in cross_prod:\n",
    "    length_axb+=(i * i) #find length of cross product\n",
    "\n",
    "length_axb = math.sqrt(length_axb)\n",
    "\n",
    "print(\"Length of a x b = \" + str(length_axb))\n",
    "\n",
    "#2d\n",
    "\n",
    "aDot_a = a.dot(a)\n",
    "print(\"a dot a = \" + str(aDot_a)) #determine dot product\n",
    "\n",
    "length_a = 0\n",
    "for i in a:\n",
    "    length_a+=(i * i)\n",
    "\n",
    "print(\"|a|^2 = \" + str(length_a)) #determine length squared: it is the same as the dot product"
   ]
  },
  {
   "cell_type": "markdown",
   "id": "c02ecdc1",
   "metadata": {},
   "source": [
    "2e: We know that $a \\cdot b = |a||b|\\cos(\\theta),   \\theta = \\arccos(\\frac{a \\cdot b}{|a||b|})$"
   ]
  },
  {
   "cell_type": "code",
   "execution_count": 23,
   "id": "e08146a1",
   "metadata": {},
   "outputs": [
    {
     "name": "stdout",
     "output_type": "stream",
     "text": [
      "1.2935019728672832\n"
     ]
    }
   ],
   "source": [
    "#2e\n",
    "\n",
    "theta = np.arccos((a.dot(b)) / (math.sqrt(a.dot(a)) * math.sqrt(b.dot(b)))) #with formula from above\n",
    "\n",
    "print(theta) #theta in radians"
   ]
  },
  {
   "cell_type": "code",
   "execution_count": 12,
   "id": "b599c1e6-a425-418d-bc26-b320235870c0",
   "metadata": {
    "tags": []
   },
   "outputs": [
    {
     "name": "stdout",
     "output_type": "stream",
     "text": [
      "[42, 46, 54, 65, 90]\n",
      "65\n",
      "[42, 46, 54, 65, 90]\n",
      "65\n",
      "88\n"
     ]
    }
   ],
   "source": [
    "#Question 3\n",
    "\n",
    "mylist = [42, 46, 54, 65, 90] #create list\n",
    "item4 = mylist[3] #get 4th item in list\n",
    "\n",
    "print(mylist)\n",
    "print(item4) #print items\n",
    "\n",
    "total = mylist[0] + mylist[1] #create \"total\" variable\n",
    "\n",
    "print(mylist)\n",
    "print(item4)\n",
    "print(total) #print items"
   ]
  },
  {
   "cell_type": "code",
   "execution_count": 15,
   "id": "9af7fab0-bede-4452-ad57-865725eaf153",
   "metadata": {},
   "outputs": [
    {
     "name": "stdout",
     "output_type": "stream",
     "text": [
      "Frederick Muench\n"
     ]
    }
   ],
   "source": [
    "#Question 4\n",
    "\n",
    "fname = \"Frederick\"\n",
    "lname = \"Muench\" #strings for first/last names\n",
    "\n",
    "fullName = fname + \" \" + lname\n",
    "print(fullName) #create full name and print it"
   ]
  },
  {
   "cell_type": "code",
   "execution_count": 9,
   "id": "73827771-1794-4911-96de-e18ef64dab32",
   "metadata": {},
   "outputs": [],
   "source": [
    "#Question 5\n",
    "\n",
    "star1 = 4.00\n",
    "star2 = 2.06"
   ]
  },
  {
   "cell_type": "markdown",
   "id": "cfbf141f-f72c-4031-9dbd-fb2bcb441adf",
   "metadata": {},
   "source": [
    "First, we set all relevant variables, star1 and star2 (cell above). We then calculate the flux ratio (cell below):\n",
    "\n",
    "$m_1 - m_2 = -2.5log_{10}(f_1/f_2) \\\\ \n",
    "(m_2 - m_1)/2.5 = log_{10}(f_1/f_2) \\\\ \n",
    "10^{(m_2 - m_1 / 2.5)} = f_1/f_2\n",
    "$"
   ]
  },
  {
   "cell_type": "code",
   "execution_count": 10,
   "id": "cf3f01c9-c0e8-481f-964b-3ed9249610e3",
   "metadata": {
    "scrolled": false
   },
   "outputs": [
    {
     "name": "stdout",
     "output_type": "stream",
     "text": [
      "0.16749428760264373\n"
     ]
    }
   ],
   "source": [
    "flux_ratio = 10 ** ((star2 - star1) / 2.5)\n",
    "print(flux_ratio)"
   ]
  },
  {
   "cell_type": "markdown",
   "id": "02ef9b9d-2b2a-4711-a7c3-e4d7da763372",
   "metadata": {},
   "source": [
    "We can now compare the fluxes of $m_{1+2}$ and $m_2$ to find the total magnitude:\n",
    "$m_{1 + 2} - m_2 = -2.5log(\\frac{f_1 + f_2}{f_2}) \\\\ \n",
    "m_{1 + 2} = -2.5log(\\frac{f_1}{f_2} + 1) + m_2 \\\\ $"
   ]
  },
  {
   "cell_type": "code",
   "execution_count": 13,
   "id": "3e603e60-0128-427e-8c05-2872868c3077",
   "metadata": {
    "scrolled": false
   },
   "outputs": [
    {
     "name": "stdout",
     "output_type": "stream",
     "text": [
      "magnitude of blended point source = 1.891863089257344\n"
     ]
    }
   ],
   "source": [
    "combined_magnitude = -2.5 * np.log10(flux_ratio + 1) + star2\n",
    "\n",
    "print(\"magnitude of blended point source = \" + str(combined_magnitude))"
   ]
  }
 ],
 "metadata": {
  "kernelspec": {
   "display_name": "Python 3 (ipykernel)",
   "language": "python",
   "name": "python3"
  },
  "language_info": {
   "codemirror_mode": {
    "name": "ipython",
    "version": 3
   },
   "file_extension": ".py",
   "mimetype": "text/x-python",
   "name": "python",
   "nbconvert_exporter": "python",
   "pygments_lexer": "ipython3",
   "version": "3.9.12"
  }
 },
 "nbformat": 4,
 "nbformat_minor": 5
}
