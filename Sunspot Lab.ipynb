{
 "cells": [
  {
   "cell_type": "markdown",
   "id": "613caaf0",
   "metadata": {},
   "source": [
    "## Sunspot Lab: Sammy Muench, AST 51, 2/1/2023"
   ]
  },
  {
   "cell_type": "code",
   "execution_count": 27,
   "id": "70235603",
   "metadata": {},
   "outputs": [],
   "source": [
    "from tabulate import tabulate as tb\n",
    "import numpy as np\n",
    "import math\n",
    "import matplotlib.pyplot as plt\n",
    "from datetime import datetime"
   ]
  },
  {
   "cell_type": "markdown",
   "id": "c9dc0e73",
   "metadata": {},
   "source": [
    "Important data:\n",
    "\n",
    "Sun equation goes from spot 17 to spot 497"
   ]
  },
  {
   "cell_type": "code",
   "execution_count": 121,
   "id": "b1d33bb5",
   "metadata": {
    "scrolled": true
   },
   "outputs": [],
   "source": [
    "spotA_xcoords = np.array([196, 247, 299, 349])\n",
    "spotA_xcoords-=17 #normalize\n",
    "spotA_y = int((sum([320, 321, 322, 324]) / 4)) #calculate average y coordinate of sunspot A\n",
    "spotA_L = int((sum([462, 460, 461, 461]) / 4)) #calculate average latitude\n",
    "\n",
    "spotB_xcoords = np.array([113, 158, 207, 259])\n",
    "spotB_xcoords-=17\n",
    "spotB_y = int((sum([175, 175, 174, 174]) / 4)) #calculate average y coordinate of sunspot A\n",
    "spotB_L = int((sum([452, 450, 451, 450]) / 4)) #average latitude for part B\n"
   ]
  },
  {
   "cell_type": "code",
   "execution_count": 118,
   "id": "53fd5a04",
   "metadata": {},
   "outputs": [],
   "source": [
    "#create array of times\n",
    "\n",
    "date1 = datetime(2014, 11, 29, 1, 39, 10)\n",
    "date2 = datetime(2014, 11, 30, 0, 57, 10)\n",
    "date3 = datetime(2014, 12, 1, 0, 39, 10)\n",
    "date4 = datetime(2014, 12, 2, 0, 39, 10)\n",
    "\n",
    "times = np.array([date1, date2, date3, date4])"
   ]
  },
  {
   "cell_type": "markdown",
   "id": "921bd8f8",
   "metadata": {},
   "source": [
    "Sun is a sphere whose diameter spans 480 DS9 coordinates, thus its radius = 240  \n",
    "$x^2 + y^2 = r^2 = 240^2$  \n",
    "$y = \\sqrt{240^2 - x^2}$"
   ]
  },
  {
   "cell_type": "code",
   "execution_count": 71,
   "id": "5559eb19",
   "metadata": {
    "scrolled": true
   },
   "outputs": [
    {
     "data": {
      "image/png": "[encoded data removed]",
      "text/plain": [
       "<Figure size 432x288 with 1 Axes>"
      ]
     },
     "metadata": {
      "needs_background": "light"
     },
     "output_type": "display_data"
    }
   ],
   "source": [
    "x = np.linspace(0, 480, 480)\n",
    "y = -(240 ** 2 - ((x - 240) ** 2)) ** 0.5 + 240 #add 240 to keep function above the x-axis\n",
    "plt.plot(x, y, 'r')\n",
    "z = np.zeros(500)\n",
    "plt.plot(z)\n",
    "plt.show;\n",
    "\n",
    "#The plot below is to demonstrate the calculation about to be made. If a sunspot travels along the blue line,\n",
    "#it is actually traveling along the red line, since the sun is approximately a sphere. Thus, when calculating \n",
    "#velocity and period, this must be accounted for. Even though the sunspots seemingly only move from left to right\n",
    "# in the picture, they actually move along the red line in 3d space.\n",
    "#The methodology used for this involves calculating the arc length of the function representated by the red line (the\n",
    "# actual sun) as a sunspot moves."
   ]
  },
  {
   "cell_type": "markdown",
   "id": "a0792ad3",
   "metadata": {},
   "source": [
    "The formula for arc length is \n",
    "# $ \\int_{x_1}^{x_2} \\sqrt{1 + f'(x)^2} \\,dx $\n",
    "\n",
    "so we have to import a package that allows us to integrate and take derivatives."
   ]
  },
  {
   "cell_type": "code",
   "execution_count": 74,
   "id": "f10953f3",
   "metadata": {},
   "outputs": [],
   "source": [
    "import scipy.integrate as intgrl\n",
    "import sympy as sym"
   ]
  },
  {
   "cell_type": "code",
   "execution_count": 132,
   "id": "f4ccd332",
   "metadata": {},
   "outputs": [],
   "source": [
    "#Define a function that takes two x-coordinates and two Times, and returns the velocity of the sunspot in km/sec.\n",
    "\n",
    "def calculate_velocity(x1, x2, t1, t2):\n",
    "    timeDiff = (t2 - t1).total_seconds()\n",
    "    print('timeDiff = ' + str(timeDiff))\n",
    "    \n",
    "    print(km_per_coord(x1, x2))\n",
    "    xDiff = (x2 - x1) * km_per_coord(x1, x2)\n",
    "    print('xDiff = ' + str(xDiff))\n",
    "    \n",
    "    return xDiff / timeDiff\n",
    "\n",
    "#Define a function that calculates the distance moved given two coordinates\n",
    "def km_per_coord(x1, x2):\n",
    "    func = lambda x: math.sqrt(1 + sym.diff(-(240 ** 2 - ((x - 240) ** 2)) ** 0.5 + 240) ** 2)\n",
    "    arc_length, error = intgrl.quad(func, x1, x2) #this finds arc length using formula above\n",
    "    sun_length = arc_length * 696000 #convert to kilometers on the sun using radius(sun) = 696,000 km\n",
    "    return sun_length\n",
    "    \n",
    "#Define a function that takes x-velocity, the length of a spot's latitude, and a boolean on whether we are calculating\n",
    "#period in terms of seconds or days. Returns the period of the sun's rotation from this data.\n",
    "\n",
    "def period(vel, latLen, day):\n",
    "    len_km = latLen * km_per_coord\n",
    "    return ((math.pi() * len_km) / vel)\n",
    "    "
   ]
  },
  {
   "cell_type": "code",
   "execution_count": 133,
   "id": "9db61b9f",
   "metadata": {},
   "outputs": [
    {
     "name": "stdout",
     "output_type": "stream",
     "text": [
      "timeDiff = 83880.0\n",
      "35496000.0\n",
      "xDiff = 1810296000.0\n",
      "timeDiff = 85320.0\n",
      "36192000.0\n",
      "xDiff = 1881984000.0\n",
      "timeDiff = 86400.0\n",
      "34800000.0\n",
      "xDiff = 1740000000.0\n",
      "[21581.97424892704, 22057.946554149086, 20138.88888888889]\n",
      "timeDiff = 83880.0\n",
      "31320000.0\n",
      "xDiff = 1409400000.0\n",
      "timeDiff = 85320.0\n",
      "34104000.0\n",
      "xDiff = 1671096000.0\n",
      "timeDiff = 86400.0\n",
      "36192000.0\n",
      "xDiff = 1881984000.0\n",
      "[16802.575107296136, 19586.21659634318, 21782.222222222223]\n"
     ]
    }
   ],
   "source": [
    "#Now the real work begins:\n",
    "\n",
    "velo_spotA = []\n",
    "\n",
    "for i in range(len(spotA_xcoords) - 1):\n",
    "    velo_spotA.append(calculate_velocity(spotA_xcoords[i], spotA_xcoords[i + 1], times[i], times[i + 1]))\n",
    "\n",
    "    \n",
    "print(velo_spotA)\n",
    "\n",
    "velo_spotB = []\n",
    "\n",
    "for i in range(len(spotB_xcoords) - 1):\n",
    "    velo_spotB.append(calculate_velocity(spotB_xcoords[i], spotB_xcoords[i + 1], times[i], times[i + 1]))\n",
    "    \n",
    "print(velo_spotB)"
   ]
  },
  {
   "cell_type": "code",
   "execution_count": 134,
   "id": "fc80f0bc",
   "metadata": {},
   "outputs": [
    {
     "ename": "TypeError",
     "evalue": "unsupported operand type(s) for *: 'int' and 'function'",
     "output_type": "error",
     "traceback": [
      "\u001b[1;31m---------------------------------------------------------------------------\u001b[0m",
      "\u001b[1;31mTypeError\u001b[0m                                 Traceback (most recent call last)",
      "Input \u001b[1;32mIn [134]\u001b[0m, in \u001b[0;36m<cell line: 1>\u001b[1;34m()\u001b[0m\n\u001b[1;32m----> 1\u001b[0m p \u001b[38;5;241m=\u001b[39m \u001b[43mperiod\u001b[49m\u001b[43m(\u001b[49m\u001b[38;5;241;43m19586\u001b[39;49m\u001b[43m,\u001b[49m\u001b[43m \u001b[49m\u001b[43mspotB_L\u001b[49m\u001b[43m,\u001b[49m\u001b[43m \u001b[49m\u001b[38;5;28;43;01mFalse\u001b[39;49;00m\u001b[43m)\u001b[49m\n",
      "Input \u001b[1;32mIn [132]\u001b[0m, in \u001b[0;36mperiod\u001b[1;34m(vel, latLen, day)\u001b[0m\n\u001b[0;32m     23\u001b[0m \u001b[38;5;28;01mdef\u001b[39;00m \u001b[38;5;21mperiod\u001b[39m(vel, latLen, day):\n\u001b[1;32m---> 24\u001b[0m     len_km \u001b[38;5;241m=\u001b[39m \u001b[43mlatLen\u001b[49m\u001b[43m \u001b[49m\u001b[38;5;241;43m*\u001b[39;49m\u001b[43m \u001b[49m\u001b[43mkm_per_coord\u001b[49m\n\u001b[0;32m     25\u001b[0m     \u001b[38;5;28;01mreturn\u001b[39;00m ((math\u001b[38;5;241m.\u001b[39mpi() \u001b[38;5;241m*\u001b[39m len_km) \u001b[38;5;241m/\u001b[39m vel)\n",
      "\u001b[1;31mTypeError\u001b[0m: unsupported operand type(s) for *: 'int' and 'function'"
     ]
    }
   ],
   "source": [
    "p = period(19586, spotB_L, False)"
   ]
  }
 ],
 "metadata": {
  "kernelspec": {
   "display_name": "Python 3 (ipykernel)",
   "language": "python",
   "name": "python3"
  },
  "language_info": {
   "codemirror_mode": {
    "name": "ipython",
    "version": 3
   },
   "file_extension": ".py",
   "mimetype": "text/x-python",
   "name": "python",
   "nbconvert_exporter": "python",
   "pygments_lexer": "ipython3",
   "version": "3.9.12"
  }
 },
 "nbformat": 4,
 "nbformat_minor": 5
}
